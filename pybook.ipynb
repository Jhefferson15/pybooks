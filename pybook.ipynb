{
 "cells": [
  {
   "cell_type": "code",
   "execution_count": 1,
   "metadata": {},
   "outputs": [],
   "source": [
    "# -*- coding: UTF-8 -*-\n",
    "import requests\n",
    "import os\n",
    "import time"
   ]
  },
  {
   "cell_type": "code",
   "execution_count": 6,
   "metadata": {},
   "outputs": [
    {
     "name": "stdout",
     "output_type": "stream",
     "text": [
      "Link para altenticação: https://jigsaw.vitalsource.com/auth/redirects/ZY2NXNYNXXS5M7E7AHX62F7EW4CK6Q2RV5FGSDW5FHXNUVZSBF\n"
     ]
    }
   ],
   "source": [
    "\n",
    "autenticacao = input('Link para altenticação: ')\n",
    "#autenticacao = 'https://jigsaw.vitalsource.com/auth/redirects/QTN3T34KURFNUMMKVVZEY6E8GY4HM8DBE2CUK3DYGZ4KTB4FDK'\n",
    "\n",
    "#link_livro = input('Link do livro: ')\n",
    "link_livro = 'https://integrada.minhabiblioteca.com.br/#/books/9788582712306/'\n",
    "\n",
    "#num_paginas = int(input('Número de páginas: '))\n",
    "num_paginas = 1000\n",
    "\n",
    "\n",
    "cookies = {\"_jigsaw_session\" : \"cEt0MTdZVlV1VzQ1RlloTFlxMHRlNG9hVEtYeXlEb3dhd0srTndNYTN4QXZLU0x3L1ZrSjNyZGxna0p5bkhOQXJpLzJDalQ5M3VaWlplYXQ2TDI5L1VWdExEU0tqRXJub3dpSW1wVmJSMnJoTEpTenlNQmQ1czN1S1Y4eXFYNnhEOW5VV1MrVTN1ZE16eDFzLzJFaDVmdnlaSWdXaGhEVTFaTVRxN1k2dDNwUmQrRlNmU2t2ZVNWQmdrS2NERm5YditQRUxrR2JUOXl6YzI5YUFXZGtmM1JzQzZCTUROamtCSFpnRVZRMVJadEsyaTlVZUVmYy94OExVUFFGa2pQWTgxUTVaa2tRZHhBODZXbFB5SFlDSXFwSlZSYUQ4VWtobjJwWE9qV2tHa0FvSDlabUtIeHhwQm1Ja0ppNmMrTWctLTNlY3FLelNPR2Y4NGNBbVA4Y2I2QkE9PQ\",\n",
    "           \"bookshelf_signin_services\" : \"3FYWYUDJPRMGUPJ8T8GQR6KFYQPMKCY2MRNB3MF5QYQSDNUJ33\",\n",
    "           \"__cfduid\":\"d4223a9799f4284fe7a5e794c3980a9371569433955\",\n",
    "           \"doorman-bookshelf_signin-services\":\"3FYWYUDJPRMGUPJ8T8GQR6KFYQPMKCY2MRNB3MF5QYQSDNUJ33\"\n",
    "           }\n",
    "\n",
    "headers = {'User-Agent': 'Mozilla/5.0 (X11; Linux i686; rv:64.0) Gecko/20100101 Firefox/64.0'}\n"
   ]
  },
  {
   "cell_type": "code",
   "execution_count": 9,
   "metadata": {},
   "outputs": [
    {
     "name": "stderr",
     "output_type": "stream",
     "text": [
      "/srv/conda/envs/notebook/lib/python3.7/site-packages/urllib3/connectionpool.py:851: InsecureRequestWarning: Unverified HTTPS request is being made. Adding certificate verification is strongly advised. See: https://urllib3.readthedocs.io/en/latest/advanced-usage.html#ssl-warnings\n",
      "  InsecureRequestWarning)\n"
     ]
    },
    {
     "name": "stdout",
     "output_type": "stream",
     "text": [
      "401\n",
      "<?xml version=\"1.0\"?>\n",
      "<error message=\"Missing key\"/>\n",
      "\n"
     ]
    }
   ],
   "source": [
    "\n",
    "\n",
    "response = requests.get(autenticacao, allow_redirects=True, headers=headers, verify=False)\n",
    "\n",
    "# 200 significa requisição OK\n",
    "print(response.status_code ) \n",
    "#print(response.cookies)\n",
    "print(response.text[:])\n",
    "#print(response.headers)\n",
    "\n",
    "time.sleep(5)\n",
    "\n"
   ]
  },
  {
   "cell_type": "code",
   "execution_count": null,
   "metadata": {},
   "outputs": [],
   "source": []
  },
  {
   "cell_type": "code",
   "execution_count": null,
   "metadata": {},
   "outputs": [],
   "source": []
  }
 ],
 "metadata": {
  "kernelspec": {
   "display_name": "Python 3",
   "language": "python",
   "name": "python3"
  },
  "language_info": {
   "codemirror_mode": {
    "name": "ipython",
    "version": 3
   },
   "file_extension": ".py",
   "mimetype": "text/x-python",
   "name": "python",
   "nbconvert_exporter": "python",
   "pygments_lexer": "ipython3",
   "version": "3.7.3"
  }
 },
 "nbformat": 4,
 "nbformat_minor": 2
}
